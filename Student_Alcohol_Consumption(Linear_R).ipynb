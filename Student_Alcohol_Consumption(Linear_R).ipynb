{
  "nbformat": 4,
  "nbformat_minor": 0,
  "metadata": {
    "colab": {
      "name": "Student Alcohol Consumption(Linear R).ipynb",
      "provenance": [],
      "collapsed_sections": [],
      "include_colab_link": true
    },
    "kernelspec": {
      "name": "python3",
      "display_name": "Python 3"
    }
  },
  "cells": [
    {
      "cell_type": "markdown",
      "metadata": {
        "id": "view-in-github",
        "colab_type": "text"
      },
      "source": [
        "<a href=\"https://colab.research.google.com/github/Toan211/CS114/blob/master/Student_Alcohol_Consumption(Linear_R).ipynb\" target=\"_parent\"><img src=\"https://colab.research.google.com/assets/colab-badge.svg\" alt=\"Open In Colab\"/></a>"
      ]
    },
    {
      "cell_type": "code",
      "metadata": {
        "id": "5Y_RjP4tHbhq",
        "colab_type": "code",
        "colab": {
          "base_uri": "https://localhost:8080/",
          "height": 125
        },
        "outputId": "22d0b6e8-e193-4bdd-b0ea-63d03565e1cb"
      },
      "source": [
        "from google.colab import drive\n",
        "drive.mount('/content/drive')"
      ],
      "execution_count": null,
      "outputs": [
        {
          "output_type": "stream",
          "text": [
            "Go to this URL in a browser: https://accounts.google.com/o/oauth2/auth?client_id=947318989803-6bn6qk8qdgf4n4g3pfee6491hc0brc4i.apps.googleusercontent.com&redirect_uri=urn%3aietf%3awg%3aoauth%3a2.0%3aoob&response_type=code&scope=email%20https%3a%2f%2fwww.googleapis.com%2fauth%2fdocs.test%20https%3a%2f%2fwww.googleapis.com%2fauth%2fdrive%20https%3a%2f%2fwww.googleapis.com%2fauth%2fdrive.photos.readonly%20https%3a%2f%2fwww.googleapis.com%2fauth%2fpeopleapi.readonly\n",
            "\n",
            "Enter your authorization code:\n",
            "··········\n",
            "Mounted at /content/drive\n"
          ],
          "name": "stdout"
        }
      ]
    },
    {
      "cell_type": "code",
      "metadata": {
        "id": "mN8ku7gIdiob",
        "colab_type": "code",
        "colab": {}
      },
      "source": [
        "import numpy as np # linear algebra\n",
        "import pandas as pd # data progressing, CSV five I/O (e.g.pd.read_csv)\n",
        "\n",
        "import matplotlib.pyplot as plt\n",
        "from sklearn.metrics import mean_squared_error\n",
        "from math import sqrt \n",
        "from sklearn.model_selection import train_test_split\n",
        "from sklearn.datasets import load_iris\n",
        "from matplotlib import pyplot as plt\n"
      ],
      "execution_count": null,
      "outputs": []
    },
    {
      "cell_type": "code",
      "metadata": {
        "id": "A3mj3vqUfF6u",
        "colab_type": "code",
        "colab": {}
      },
      "source": [
        "#read csv (comma separated value) into data\n",
        "Data = pd.read_csv(\"/content/drive/My Drive/CS114/Dataset/Student Alcohol Consumption/student-Merge.csv\") #1044 students\n",
        "\n"
      ],
      "execution_count": null,
      "outputs": []
    },
    {
      "cell_type": "code",
      "metadata": {
        "id": "FguwwyggUJsR",
        "colab_type": "code",
        "colab": {
          "base_uri": "https://localhost:8080/",
          "height": 265
        },
        "outputId": "8bf8cf24-aba7-40c0-cc17-b60ee0c2e18c"
      },
      "source": [
        "Data.count"
      ],
      "execution_count": null,
      "outputs": [
        {
          "output_type": "execute_result",
          "data": {
            "text/plain": [
              "<bound method DataFrame.count of       school  sex  age  address  famsize  ...  health  absences  G1  G2  G3\n",
              "0          1    0   18        1        1  ...       3         6   5   6   6\n",
              "1          1    0   17        1        1  ...       3         4   5   5   6\n",
              "2          1    0   15        1        0  ...       3        10   7   8  10\n",
              "3          1    0   15        1        1  ...       5         2  15  14  15\n",
              "4          1    0   16        1        1  ...       5         4   6  10  10\n",
              "...      ...  ...  ...      ...      ...  ...     ...       ...  ..  ..  ..\n",
              "1039       0    0   19        0        1  ...       5         4  10  11  10\n",
              "1040       0    0   18        1        0  ...       1         4  15  15  16\n",
              "1041       0    0   18        1        1  ...       5         6  11  12   9\n",
              "1042       0    1   17        1        0  ...       2         6  10  10  10\n",
              "1043       0    1   18        0        0  ...       5         4  10  11  11\n",
              "\n",
              "[1044 rows x 33 columns]>"
            ]
          },
          "metadata": {
            "tags": []
          },
          "execution_count": 4
        }
      ]
    },
    {
      "cell_type": "code",
      "metadata": {
        "id": "4PQsMbNJV0h8",
        "colab_type": "code",
        "colab": {
          "base_uri": "https://localhost:8080/",
          "height": 265
        },
        "outputId": "f76cf6a6-4a81-4c7c-8685-ad0305bd254b"
      },
      "source": [
        "# Data.drop(Data[Data['G3'] <= 0 ].index, inplace = True) \n",
        "  \n",
        "# Data.count\n",
        "  "
      ],
      "execution_count": null,
      "outputs": [
        {
          "output_type": "execute_result",
          "data": {
            "text/plain": [
              "<bound method DataFrame.count of       school  sex  age  address  famsize  ...  health  absences  G1  G2  G3\n",
              "0          1    0   18        1        1  ...       3         6   5   6   6\n",
              "1          1    0   17        1        1  ...       3         4   5   5   6\n",
              "2          1    0   15        1        0  ...       3        10   7   8  10\n",
              "3          1    0   15        1        1  ...       5         2  15  14  15\n",
              "4          1    0   16        1        1  ...       5         4   6  10  10\n",
              "...      ...  ...  ...      ...      ...  ...     ...       ...  ..  ..  ..\n",
              "1039       0    0   19        0        1  ...       5         4  10  11  10\n",
              "1040       0    0   18        1        0  ...       1         4  15  15  16\n",
              "1041       0    0   18        1        1  ...       5         6  11  12   9\n",
              "1042       0    1   17        1        0  ...       2         6  10  10  10\n",
              "1043       0    1   18        0        0  ...       5         4  10  11  11\n",
              "\n",
              "[991 rows x 33 columns]>"
            ]
          },
          "metadata": {
            "tags": []
          },
          "execution_count": 30
        }
      ]
    },
    {
      "cell_type": "code",
      "metadata": {
        "id": "L_CNibNVT67v",
        "colab_type": "code",
        "colab": {}
      },
      "source": [
        "x = Data[['school','sex','age','address','famsize','Pstatus','Medu','Fedu','Mjob',\n",
        "          'Fjob','reason','guardian','traveltime','studytime','failures','schoolsup',\n",
        "          'famsup','paid','activities','nursery','higher','internet','romantic','famrel',\n",
        "          'freetime','goout','Dalc','Walc','health','absences','G1','G2']]\n",
        "y = Data[['G3']]\n",
        "#x = data, y= final score.\n",
        "x_train,x_test,y_train,y_test = train_test_split(x,y,test_size=0.2)\n",
        "#tách x train(data) & y train(score) = 80 /// x test(data) & y test(score) = 20"
      ],
      "execution_count": null,
      "outputs": []
    },
    {
      "cell_type": "code",
      "metadata": {
        "id": "LlePQ-C2j7cg",
        "colab_type": "code",
        "colab": {
          "base_uri": "https://localhost:8080/",
          "height": 265
        },
        "outputId": "dd2255bb-dc24-4cd9-970e-e8883d7722e8"
      },
      "source": [
        "x_train.count"
      ],
      "execution_count": null,
      "outputs": [
        {
          "output_type": "execute_result",
          "data": {
            "text/plain": [
              "<bound method DataFrame.count of      school  sex  age  address  famsize  ...  Walc  health  absences  G1  G2\n",
              "422       1    1   15        1        1  ...     4       1         0  11  11\n",
              "908       0    0   16        1        1  ...     3       1         0   8   6\n",
              "682       1    1   17        1        0  ...     2       5         0   9  10\n",
              "145       1    0   15        1        1  ...     2       5         0   8  11\n",
              "138       1    1   16        1        0  ...     3       5         0  14  12\n",
              "..      ...  ...  ...      ...      ...  ...   ...     ...       ...  ..  ..\n",
              "570       1    1   17        0        1  ...     4       3         4   7   6\n",
              "632       1    1   18        1        1  ...     5       4         9  10   9\n",
              "922       0    1   16        1        0  ...     2       3         0  10   9\n",
              "572       1    1   16        1        1  ...     4       2         2   9   8\n",
              "656       1    0   17        0        1  ...     1       3         2  13  13\n",
              "\n",
              "[835 rows x 32 columns]>"
            ]
          },
          "metadata": {
            "tags": []
          },
          "execution_count": 6
        }
      ]
    },
    {
      "cell_type": "code",
      "metadata": {
        "id": "07G3sU2VlTjr",
        "colab_type": "code",
        "colab": {
          "base_uri": "https://localhost:8080/",
          "height": 265
        },
        "outputId": "94c87073-54f5-4165-f57d-d426d6cbaa35"
      },
      "source": [
        "x_test.count"
      ],
      "execution_count": null,
      "outputs": [
        {
          "output_type": "execute_result",
          "data": {
            "text/plain": [
              "<bound method DataFrame.count of      school  sex  age  address  famsize  ...  Walc  health  absences  G1  G2\n",
              "674       1    1   22        1        1  ...     5       1        12   7   8\n",
              "381       0    1   18        0        1  ...     3       5         5   7   6\n",
              "844       0    0   15        0        1  ...     1       1         3  11  13\n",
              "359       0    0   18        1        0  ...     1       4         0  18  16\n",
              "670       1    0   18        1        1  ...     1       3        10  12  10\n",
              "..      ...  ...  ...      ...      ...  ...   ...     ...       ...  ..  ..\n",
              "290       1    1   18        1        1  ...     4       5        11  12  11\n",
              "814       1    1   19        1        1  ...     4       4        10   7  11\n",
              "67        1    0   16        1        1  ...     2       5         4   7   7\n",
              "47        1    1   16        1        1  ...     1       2         4  19  19\n",
              "220       1    0   17        0        1  ...     2       5         2   6   6\n",
              "\n",
              "[209 rows x 32 columns]>"
            ]
          },
          "metadata": {
            "tags": []
          },
          "execution_count": 12
        }
      ]
    },
    {
      "cell_type": "code",
      "metadata": {
        "id": "xIH7GHfJoaVq",
        "colab_type": "code",
        "colab": {}
      },
      "source": [
        "from sklearn import linear_model"
      ],
      "execution_count": null,
      "outputs": []
    },
    {
      "cell_type": "code",
      "metadata": {
        "id": "7nQkxeSUfXft",
        "colab_type": "code",
        "colab": {}
      },
      "source": [
        "reg = linear_model.LinearRegression()\n",
        "model = reg.fit(x_train,y_train)#train x_train(data) vs y_train(score)"
      ],
      "execution_count": null,
      "outputs": []
    },
    {
      "cell_type": "code",
      "metadata": {
        "id": "_WPi4ZeSmnyS",
        "colab_type": "code",
        "colab": {}
      },
      "source": [
        "y_predict0 = reg.predict(x_test)#y_predict0 = y_test(score)"
      ],
      "execution_count": null,
      "outputs": []
    },
    {
      "cell_type": "code",
      "metadata": {
        "id": "TpcxGknLnjdF",
        "colab_type": "code",
        "colab": {
          "base_uri": "https://localhost:8080/",
          "height": 297
        },
        "outputId": "b1095270-881d-41b1-cc72-ec33bb8617be"
      },
      "source": [
        "plt.scatter(y_test, y_predict0)\n",
        "plt.xlabel(\"True Values\")\n",
        "plt.ylabel(\"Predictions\") #biểu đồ sự khác nhau giữa data predict score vs real score"
      ],
      "execution_count": null,
      "outputs": [
        {
          "output_type": "execute_result",
          "data": {
            "text/plain": [
              "Text(0, 0.5, 'Predictions')"
            ]
          },
          "metadata": {
            "tags": []
          },
          "execution_count": 11
        },
        {
          "output_type": "display_data",
          "data": {
            "image/png": "[encoded data removed]",
            "text/plain": [
              "<Figure size 432x288 with 1 Axes>"
            ]
          },
          "metadata": {
            "tags": [],
            "needs_background": "light"
          }
        }
      ]
    },
    {
      "cell_type": "code",
      "metadata": {
        "id": "SfKeoI69OM58",
        "colab_type": "code",
        "colab": {
          "base_uri": "https://localhost:8080/",
          "height": 52
        },
        "outputId": "743e5d76-9728-480b-9fd2-9f394e4a089a"
      },
      "source": [
        "print (\"Score:\")\n",
        "model.score(x_test, y_test) # độ chính xác"
      ],
      "execution_count": null,
      "outputs": [
        {
          "output_type": "stream",
          "text": [
            "Score:\n"
          ],
          "name": "stdout"
        },
        {
          "output_type": "execute_result",
          "data": {
            "text/plain": [
              "0.8275286429351993"
            ]
          },
          "metadata": {
            "tags": []
          },
          "execution_count": 13
        }
      ]
    },
    {
      "cell_type": "code",
      "metadata": {
        "id": "youWUtsSntrH",
        "colab_type": "code",
        "colab": {}
      },
      "source": [
        "pd.DataFrame(y_predict0)"
      ],
      "execution_count": null,
      "outputs": []
    },
    {
      "cell_type": "code",
      "metadata": {
        "id": "EognsgwcM0OE",
        "colab_type": "code",
        "colab": {}
      },
      "source": [
        "pd.DataFrame(x_test)"
      ],
      "execution_count": null,
      "outputs": []
    },
    {
      "cell_type": "code",
      "metadata": {
        "id": "xJXedvL88QIk",
        "colab_type": "code",
        "colab": {
          "base_uri": "https://localhost:8080/",
          "height": 34
        },
        "outputId": "f38b516f-26d6-49da-bb17-f3c80de77401"
      },
      "source": [
        "rms0 = sqrt(mean_squared_error(y_test, y_predict0))     #mức độ phân tán (lệch nhau)   #g tri test lech vs g tri thuc te\n",
        "rms0    #rmse file test                                 #các giá trị dự đoán (y_test score) từ các giá trị thực tế (real score)"
      ],
      "execution_count": null,
      "outputs": [
        {
          "output_type": "execute_result",
          "data": {
            "text/plain": [
              "1.5168067102361638"
            ]
          },
          "metadata": {
            "tags": []
          },
          "execution_count": 15
        }
      ]
    },
    {
      "cell_type": "code",
      "metadata": {
        "id": "wBVAc9vEatOg",
        "colab_type": "code",
        "colab": {
          "base_uri": "https://localhost:8080/",
          "height": 34
        },
        "outputId": "bff9bc37-1fc2-4040-8a24-f92b234a9793"
      },
      "source": [
        "print('Mean squared error: %.2f'\n",
        "      % mean_squared_error(y_test, y_predict0))"
      ],
      "execution_count": null,
      "outputs": [
        {
          "output_type": "stream",
          "text": [
            "Mean squared error: 2.30\n"
          ],
          "name": "stdout"
        }
      ]
    },
    {
      "cell_type": "code",
      "metadata": {
        "id": "K2T18zaSvfgj",
        "colab_type": "code",
        "colab": {
          "base_uri": "https://localhost:8080/",
          "height": 34
        },
        "outputId": "fc265635-aba0-4a62-bd22-c38e73d9bb23"
      },
      "source": [
        "y_predict = reg.predict(x_train)                                        # sai số toàn phương trung bình\n",
        "rms = sqrt(mean_squared_error(y_train, y_predict))                    #file train vs file test lech ko nhieu--> model tot\n",
        "rms       #rmse file train"
      ],
      "execution_count": null,
      "outputs": [
        {
          "output_type": "execute_result",
          "data": {
            "text/plain": [
              "1.5554869375381528"
            ]
          },
          "metadata": {
            "tags": []
          },
          "execution_count": 17
        }
      ]
    },
    {
      "cell_type": "markdown",
      "metadata": {
        "id": "Ny86ioZnWlfp",
        "colab_type": "text"
      },
      "source": [
        "------------------------------------------------------------------------------------------------------------------------------------------------------------\n",
        "---------------------------------\n",
        "--------------------------------\n",
        "--------------------------------\n",
        "------------------------------"
      ]
    },
    {
      "cell_type": "code",
      "metadata": {
        "id": "2e5qvdUsrmGW",
        "colab_type": "code",
        "colab": {}
      },
      "source": [
        "HeavyDrinker = pd.read_csv(\"/content/drive/My Drive/CS114/Dataset/Student Alcohol Consumption/Book2-Merge.csv\")\n",
        "LowDrinker = pd.read_csv(\"/content/drive/My Drive/CS114/Dataset/Student Alcohol Consumption/Book1-Merge.csv\")\n",
        "#lố đề\n",
        "XHeavyDrinker = HeavyDrinker[['school','sex','age','address','famsize','Pstatus','Medu','Fedu','Mjob','Fjob','reason','guardian','traveltime','studytime','failures','schoolsup','famsup','paid','activities','nursery','higher','internet','romantic','famrel','freetime','goout','Dalc','Walc','health','absences','G1','G2']]\n",
        "# uống rượu 5-10\n",
        "XLowDrinker = LowDrinker[['school','sex','age','address','famsize','Pstatus','Medu','Fedu','Mjob','Fjob','reason','guardian','traveltime','studytime','failures','schoolsup','famsup','paid','activities','nursery','higher','internet','romantic','famrel','freetime','goout','Dalc','Walc','health','absences','G1','G2']]\n",
        "# uống rượu 2-4"
      ],
      "execution_count": null,
      "outputs": []
    },
    {
      "cell_type": "code",
      "metadata": {
        "id": "CntlJIwot1wQ",
        "colab_type": "code",
        "colab": {}
      },
      "source": [
        "HD = reg.predict(XHeavyDrinker)\n",
        "#HD = y_HDrinker5-10 (score)\n",
        "LD = reg.predict(XLowDrinker)\n",
        "#LD = y_LDrinker2-4 (score)"
      ],
      "execution_count": null,
      "outputs": []
    },
    {
      "cell_type": "code",
      "metadata": {
        "id": "fQADSd7ozeQL",
        "colab_type": "code",
        "colab": {
          "base_uri": "https://localhost:8080/",
          "height": 34
        },
        "outputId": "92003072-e683-4996-f5cf-1f12b749ed2f"
      },
      "source": [
        "y = 0\n",
        "for x in HD: #HeavyDrinker\n",
        "  if x >= 10:\n",
        "    y = y + 1\n",
        "y\n",
        "percentage0 = y/float(len(HD))*100  # phần trăm học sinh uống nhiều trên điểm tb\n",
        "percentage0  #+==> uống rượu nhiều 45-50% rớt"
      ],
      "execution_count": null,
      "outputs": [
        {
          "output_type": "execute_result",
          "data": {
            "text/plain": [
              "56.97674418604651"
            ]
          },
          "metadata": {
            "tags": []
          },
          "execution_count": 21
        }
      ]
    },
    {
      "cell_type": "code",
      "metadata": {
        "id": "zcPMXfZN3Ced",
        "colab_type": "code",
        "colab": {
          "base_uri": "https://localhost:8080/",
          "height": 34
        },
        "outputId": "459c4625-e5e3-4ba2-d4d6-5155bc053b4d"
      },
      "source": [
        "y = 0\n",
        "for x in LD: #LowDrinker\n",
        "  if x >= 10:\n",
        "    y = y + 1\n",
        "y\n",
        "percentage = y/float(len(LD))*100   # phần trăm số học sinh uống ít trên điểm tb\n",
        "percentage   #+==> uống rượu ít 30-35% rớt  "
      ],
      "execution_count": null,
      "outputs": [
        {
          "output_type": "execute_result",
          "data": {
            "text/plain": [
              "69.6"
            ]
          },
          "metadata": {
            "tags": []
          },
          "execution_count": 22
        }
      ]
    },
    {
      "cell_type": "code",
      "metadata": {
        "id": "f3XnfMYpuE29",
        "colab_type": "code",
        "colab": {
          "base_uri": "https://localhost:8080/",
          "height": 77
        },
        "outputId": "7b1caa68-d9ce-4cf9-939a-28c0f9a929af"
      },
      "source": [
        "def Average(lst): \n",
        "    return sum(lst) / len(lst) \n",
        "Average1 = Average(HD)\n",
        "Average2 = Average(LD)\n",
        "pd.DataFrame(Average2) # điểm trung bình uống it"
      ],
      "execution_count": null,
      "outputs": [
        {
          "output_type": "execute_result",
          "data": {
            "text/html": [
              "<div>\n",
              "<style scoped>\n",
              "    .dataframe tbody tr th:only-of-type {\n",
              "        vertical-align: middle;\n",
              "    }\n",
              "\n",
              "    .dataframe tbody tr th {\n",
              "        vertical-align: top;\n",
              "    }\n",
              "\n",
              "    .dataframe thead th {\n",
              "        text-align: right;\n",
              "    }\n",
              "</style>\n",
              "<table border=\"1\" class=\"dataframe\">\n",
              "  <thead>\n",
              "    <tr style=\"text-align: right;\">\n",
              "      <th></th>\n",
              "      <th>0</th>\n",
              "    </tr>\n",
              "  </thead>\n",
              "  <tbody>\n",
              "    <tr>\n",
              "      <th>0</th>\n",
              "      <td>11.654418</td>\n",
              "    </tr>\n",
              "  </tbody>\n",
              "</table>\n",
              "</div>"
            ],
            "text/plain": [
              "           0\n",
              "0  11.654418"
            ]
          },
          "metadata": {
            "tags": []
          },
          "execution_count": 23
        }
      ]
    },
    {
      "cell_type": "code",
      "metadata": {
        "id": "bbEYPTbyuKym",
        "colab_type": "code",
        "colab": {
          "base_uri": "https://localhost:8080/",
          "height": 77
        },
        "outputId": "0184184c-38e5-445f-8110-6efaad7dd74b"
      },
      "source": [
        "pd.DataFrame(Average1) #điểm trung bình uống nhièu"
      ],
      "execution_count": null,
      "outputs": [
        {
          "output_type": "execute_result",
          "data": {
            "text/html": [
              "<div>\n",
              "<style scoped>\n",
              "    .dataframe tbody tr th:only-of-type {\n",
              "        vertical-align: middle;\n",
              "    }\n",
              "\n",
              "    .dataframe tbody tr th {\n",
              "        vertical-align: top;\n",
              "    }\n",
              "\n",
              "    .dataframe thead th {\n",
              "        text-align: right;\n",
              "    }\n",
              "</style>\n",
              "<table border=\"1\" class=\"dataframe\">\n",
              "  <thead>\n",
              "    <tr style=\"text-align: right;\">\n",
              "      <th></th>\n",
              "      <th>0</th>\n",
              "    </tr>\n",
              "  </thead>\n",
              "  <tbody>\n",
              "    <tr>\n",
              "      <th>0</th>\n",
              "      <td>10.525005</td>\n",
              "    </tr>\n",
              "  </tbody>\n",
              "</table>\n",
              "</div>"
            ],
            "text/plain": [
              "           0\n",
              "0  10.525005"
            ]
          },
          "metadata": {
            "tags": []
          },
          "execution_count": 24
        }
      ]
    },
    {
      "cell_type": "markdown",
      "metadata": {
        "id": "vxhak4EPVV5b",
        "colab_type": "text"
      },
      "source": [
        "--------------------------------------------------------\n"
      ]
    },
    {
      "cell_type": "code",
      "metadata": {
        "id": "hiziM6PKaRPp",
        "colab_type": "code",
        "colab": {}
      },
      "source": [
        "#for fun\n",
        "FA = pd.read_csv(\"/content/drive/My Drive/CS114/Dataset/Student Alcohol Consumption/FA.csv\")\n",
        "NotFA = pd.read_csv(\"/content/drive/My Drive/CS114/Dataset/Student Alcohol Consumption/NotFA.csv\")\n",
        "x1 = FA[['school','sex','age','address','famsize','Pstatus','Medu','Fedu','Mjob','Fjob','reason','guardian','traveltime','studytime','failures','schoolsup','famsup','paid','activities','nursery','higher','internet','romantic','famrel','freetime','goout','Dalc','Walc','health','absences','G1','G2']]\n",
        "x2 = NotFA[['school','sex','age','address','famsize','Pstatus','Medu','Fedu','Mjob','Fjob','reason','guardian','traveltime','studytime','failures','schoolsup','famsup','paid','activities','nursery','higher','internet','romantic','famrel','freetime','goout','Dalc','Walc','health','absences','G1','G2']]\n",
        "y1 = FA[['G3']]\n",
        "y2 = NotFA[['G3']]"
      ],
      "execution_count": null,
      "outputs": []
    },
    {
      "cell_type": "code",
      "metadata": {
        "id": "GpwuLKo5cAp_",
        "colab_type": "code",
        "colab": {}
      },
      "source": [
        "FApredict = reg.predict(x1)\n",
        "NotFApredict = reg.predict(x2)"
      ],
      "execution_count": null,
      "outputs": []
    },
    {
      "cell_type": "code",
      "metadata": {
        "id": "eOn7hv3Vcqr4",
        "colab_type": "code",
        "colab": {
          "base_uri": "https://localhost:8080/",
          "height": 80
        },
        "outputId": "e5a1f55d-eb4f-4a0b-e5ee-7b6d8cff7c35"
      },
      "source": [
        "def Average(lst): \n",
        "    return sum(lst) / len(lst) \n",
        "Average1 = Average(FApredict)\n",
        "Average2 = Average(NotFApredict)\n",
        "pd.DataFrame(Average1)\n"
      ],
      "execution_count": null,
      "outputs": [
        {
          "output_type": "execute_result",
          "data": {
            "text/html": [
              "<div>\n",
              "<style scoped>\n",
              "    .dataframe tbody tr th:only-of-type {\n",
              "        vertical-align: middle;\n",
              "    }\n",
              "\n",
              "    .dataframe tbody tr th {\n",
              "        vertical-align: top;\n",
              "    }\n",
              "\n",
              "    .dataframe thead th {\n",
              "        text-align: right;\n",
              "    }\n",
              "</style>\n",
              "<table border=\"1\" class=\"dataframe\">\n",
              "  <thead>\n",
              "    <tr style=\"text-align: right;\">\n",
              "      <th></th>\n",
              "      <th>0</th>\n",
              "    </tr>\n",
              "  </thead>\n",
              "  <tbody>\n",
              "    <tr>\n",
              "      <th>0</th>\n",
              "      <td>10.954982</td>\n",
              "    </tr>\n",
              "  </tbody>\n",
              "</table>\n",
              "</div>"
            ],
            "text/plain": [
              "           0\n",
              "0  10.954982"
            ]
          },
          "metadata": {
            "tags": []
          },
          "execution_count": 21
        }
      ]
    },
    {
      "cell_type": "code",
      "metadata": {
        "id": "aqYM_VgZdnzj",
        "colab_type": "code",
        "colab": {
          "base_uri": "https://localhost:8080/",
          "height": 80
        },
        "outputId": "fabc066d-4c1b-4047-dd26-3d4c540c9cf9"
      },
      "source": [
        "pd.DataFrame(Average2)"
      ],
      "execution_count": null,
      "outputs": [
        {
          "output_type": "execute_result",
          "data": {
            "text/html": [
              "<div>\n",
              "<style scoped>\n",
              "    .dataframe tbody tr th:only-of-type {\n",
              "        vertical-align: middle;\n",
              "    }\n",
              "\n",
              "    .dataframe tbody tr th {\n",
              "        vertical-align: top;\n",
              "    }\n",
              "\n",
              "    .dataframe thead th {\n",
              "        text-align: right;\n",
              "    }\n",
              "</style>\n",
              "<table border=\"1\" class=\"dataframe\">\n",
              "  <thead>\n",
              "    <tr style=\"text-align: right;\">\n",
              "      <th></th>\n",
              "      <th>0</th>\n",
              "    </tr>\n",
              "  </thead>\n",
              "  <tbody>\n",
              "    <tr>\n",
              "      <th>0</th>\n",
              "      <td>9.938844</td>\n",
              "    </tr>\n",
              "  </tbody>\n",
              "</table>\n",
              "</div>"
            ],
            "text/plain": [
              "          0\n",
              "0  9.938844"
            ]
          },
          "metadata": {
            "tags": []
          },
          "execution_count": 22
        }
      ]
    }
  ]
}