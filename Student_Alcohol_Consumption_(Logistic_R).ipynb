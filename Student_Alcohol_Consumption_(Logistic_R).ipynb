{
  "nbformat": 4,
  "nbformat_minor": 0,
  "metadata": {
    "colab": {
      "name": "Student Alcohol Consumption (Logistic R).ipynb",
      "provenance": [],
      "collapsed_sections": [],
      "include_colab_link": true
    },
    "kernelspec": {
      "name": "python3",
      "display_name": "Python 3"
    }
  },
  "cells": [
    {
      "cell_type": "markdown",
      "metadata": {
        "id": "view-in-github",
        "colab_type": "text"
      },
      "source": [
        "<a href=\"https://colab.research.google.com/github/Toan211/CS114/blob/master/Student_Alcohol_Consumption_(Logistic_R).ipynb\" target=\"_parent\"><img src=\"https://colab.research.google.com/assets/colab-badge.svg\" alt=\"Open In Colab\"/></a>"
      ]
    },
    {
      "cell_type": "code",
      "metadata": {
        "id": "4WBW64CzHf9W",
        "colab_type": "code",
        "colab": {
          "base_uri": "https://localhost:8080/",
          "height": 125
        },
        "outputId": "d58d2e56-6c72-49b0-902c-b7cbb0bf3bb2"
      },
      "source": [
        "from google.colab import drive\n",
        "drive.mount('/content/drive')"
      ],
      "execution_count": null,
      "outputs": [
        {
          "output_type": "stream",
          "text": [
            "Go to this URL in a browser: https://accounts.google.com/o/oauth2/auth?client_id=947318989803-6bn6qk8qdgf4n4g3pfee6491hc0brc4i.apps.googleusercontent.com&redirect_uri=urn%3aietf%3awg%3aoauth%3a2.0%3aoob&response_type=code&scope=email%20https%3a%2f%2fwww.googleapis.com%2fauth%2fdocs.test%20https%3a%2f%2fwww.googleapis.com%2fauth%2fdrive%20https%3a%2f%2fwww.googleapis.com%2fauth%2fdrive.photos.readonly%20https%3a%2f%2fwww.googleapis.com%2fauth%2fpeopleapi.readonly\n",
            "\n",
            "Enter your authorization code:\n",
            "··········\n",
            "Mounted at /content/drive\n"
          ],
          "name": "stdout"
        }
      ]
    },
    {
      "cell_type": "code",
      "metadata": {
        "id": "Xu2ey28IHhsG",
        "colab_type": "code",
        "colab": {}
      },
      "source": [
        "import numpy as np # linear algebra\n",
        "import pandas as pd # data progressing, CSV five I/O (e.g.pd.read_csv)\n",
        "from sklearn.metrics import mean_squared_error\n",
        "from sklearn.model_selection import train_test_split\n",
        "\n",
        "from sklearn.datasets import load_iris\n",
        "from matplotlib import pyplot as plt\n",
        "from sklearn import preprocessing\n",
        "from math import sqrt \n"
      ],
      "execution_count": null,
      "outputs": []
    },
    {
      "cell_type": "code",
      "metadata": {
        "id": "oEKCzAdkzOsf",
        "colab_type": "code",
        "colab": {}
      },
      "source": [
        "Data = pd.read_csv(\"/content/drive/My Drive/CS114/Dataset/Student Alcohol Consumption/student-Merge.csv\") #1044 students\n",
        "x = Data.drop('G3',axis = 1)\n",
        "y = Data.G3\n",
        "#x = data, y= final score.\n",
        "x_train,x_test,y_train,y_test = train_test_split(x,y,test_size=0.2)"
      ],
      "execution_count": null,
      "outputs": []
    },
    {
      "cell_type": "code",
      "metadata": {
        "id": "XCk8h53FmAOW",
        "colab_type": "code",
        "colab": {
          "base_uri": "https://localhost:8080/",
          "height": 727
        },
        "outputId": "63885f49-2531-4b6d-8331-f7c8acac7fc5"
      },
      "source": [
        "Data.info()"
      ],
      "execution_count": null,
      "outputs": [
        {
          "output_type": "stream",
          "text": [
            "<class 'pandas.core.frame.DataFrame'>\n",
            "RangeIndex: 1044 entries, 0 to 1043\n",
            "Data columns (total 33 columns):\n",
            " #   Column      Non-Null Count  Dtype\n",
            "---  ------      --------------  -----\n",
            " 0   school      1044 non-null   int64\n",
            " 1   sex         1044 non-null   int64\n",
            " 2   age         1044 non-null   int64\n",
            " 3   address     1044 non-null   int64\n",
            " 4   famsize     1044 non-null   int64\n",
            " 5   Pstatus     1044 non-null   int64\n",
            " 6   Medu        1044 non-null   int64\n",
            " 7   Fedu        1044 non-null   int64\n",
            " 8   Mjob        1044 non-null   int64\n",
            " 9   Fjob        1044 non-null   int64\n",
            " 10  reason      1044 non-null   int64\n",
            " 11  guardian    1044 non-null   int64\n",
            " 12  traveltime  1044 non-null   int64\n",
            " 13  studytime   1044 non-null   int64\n",
            " 14  failures    1044 non-null   int64\n",
            " 15  schoolsup   1044 non-null   int64\n",
            " 16  famsup      1044 non-null   int64\n",
            " 17  paid        1044 non-null   int64\n",
            " 18  activities  1044 non-null   int64\n",
            " 19  nursery     1044 non-null   int64\n",
            " 20  higher      1044 non-null   int64\n",
            " 21  internet    1044 non-null   int64\n",
            " 22  romantic    1044 non-null   int64\n",
            " 23  famrel      1044 non-null   int64\n",
            " 24  freetime    1044 non-null   int64\n",
            " 25  goout       1044 non-null   int64\n",
            " 26  Dalc        1044 non-null   int64\n",
            " 27  Walc        1044 non-null   int64\n",
            " 28  health      1044 non-null   int64\n",
            " 29  absences    1044 non-null   int64\n",
            " 30  G1          1044 non-null   int64\n",
            " 31  G2          1044 non-null   int64\n",
            " 32  G3          1044 non-null   int64\n",
            "dtypes: int64(33)\n",
            "memory usage: 269.3 KB\n"
          ],
          "name": "stdout"
        }
      ]
    },
    {
      "cell_type": "code",
      "metadata": {
        "id": "8HBwmSmhqULr",
        "colab_type": "code",
        "colab": {}
      },
      "source": [
        "#min_max_scaler = preprocessing.MinMaxScaler()\n",
        "#x_train_minmax = min_max_scaler.fit_transform(x_train)\n",
        "#x_train_minmax"
      ],
      "execution_count": null,
      "outputs": []
    },
    {
      "cell_type": "code",
      "metadata": {
        "id": "Mh3eKj9W3RWU",
        "colab_type": "code",
        "colab": {}
      },
      "source": [
        "from sklearn import linear_model\n",
        "from sklearn.linear_model import LogisticRegression"
      ],
      "execution_count": null,
      "outputs": []
    },
    {
      "cell_type": "code",
      "metadata": {
        "id": "U0jC6I_10pVF",
        "colab_type": "code",
        "colab": {}
      },
      "source": [
        "reg = linear_model.LogisticRegression(solver='lbfgs', max_iter = 15000)\n"
      ],
      "execution_count": null,
      "outputs": []
    },
    {
      "cell_type": "code",
      "metadata": {
        "id": "nSOeRF-P1lCI",
        "colab_type": "code",
        "colab": {}
      },
      "source": [
        "model = reg.fit(x_train,y_train)"
      ],
      "execution_count": null,
      "outputs": []
    },
    {
      "cell_type": "code",
      "metadata": {
        "id": "brr1X5qd1tL2",
        "colab_type": "code",
        "colab": {}
      },
      "source": [
        "y_predict0 = reg.predict(x_test)"
      ],
      "execution_count": null,
      "outputs": []
    },
    {
      "cell_type": "code",
      "metadata": {
        "id": "uzwxDTNt2DF-",
        "colab_type": "code",
        "colab": {
          "base_uri": "https://localhost:8080/",
          "height": 296
        },
        "outputId": "31fb9274-0949-4d3f-d64e-e2500b53a126"
      },
      "source": [
        "plt.scatter(y_test, y_predict0)\n",
        "plt.xlabel(\"True Values\")\n",
        "plt.ylabel(\"Predictions\") "
      ],
      "execution_count": null,
      "outputs": [
        {
          "output_type": "execute_result",
          "data": {
            "text/plain": [
              "Text(0, 0.5, 'Predictions')"
            ]
          },
          "metadata": {
            "tags": []
          },
          "execution_count": 18
        },
        {
          "output_type": "display_data",
          "data": {
            "image/png": "[encoded data removed]",
            "text/plain": [
              "<Figure size 432x288 with 1 Axes>"
            ]
          },
          "metadata": {
            "tags": [],
            "needs_background": "light"
          }
        }
      ]
    },
    {
      "cell_type": "code",
      "metadata": {
        "id": "o72r-uxh1_pn",
        "colab_type": "code",
        "colab": {
          "base_uri": "https://localhost:8080/",
          "height": 52
        },
        "outputId": "3f3a7753-25f7-459a-bf56-3580df59f723"
      },
      "source": [
        "print (\"Score:\")\n",
        "model.score(x_test, y_test)"
      ],
      "execution_count": null,
      "outputs": [
        {
          "output_type": "stream",
          "text": [
            "Score:\n"
          ],
          "name": "stdout"
        },
        {
          "output_type": "execute_result",
          "data": {
            "text/plain": [
              "0.41626794258373206"
            ]
          },
          "metadata": {
            "tags": []
          },
          "execution_count": 24
        }
      ]
    },
    {
      "cell_type": "code",
      "metadata": {
        "id": "0JbMHSxR2Dof",
        "colab_type": "code",
        "colab": {
          "base_uri": "https://localhost:8080/",
          "height": 34
        },
        "outputId": "7e53d798-ec47-4b65-b2ce-49dd76132a10"
      },
      "source": [
        "rms0 = sqrt(mean_squared_error(y_test, y_predict0))     #mức độ phân tán (lệch nhau)   #g tri test lech vs g tri thuc te\n",
        "rms0        #RMSE file test"
      ],
      "execution_count": null,
      "outputs": [
        {
          "output_type": "execute_result",
          "data": {
            "text/plain": [
              "2.1631980578117607"
            ]
          },
          "metadata": {
            "tags": []
          },
          "execution_count": 20
        }
      ]
    },
    {
      "cell_type": "code",
      "metadata": {
        "id": "ygwcA2p8slmV",
        "colab_type": "code",
        "colab": {
          "base_uri": "https://localhost:8080/",
          "height": 34
        },
        "outputId": "e55f3c34-06a7-4937-fd99-35cd8eb0d054"
      },
      "source": [
        "y_predict = reg.predict(x_train)                            #y_predict = y_train(score)\n",
        "rms = sqrt(mean_squared_error(y_train, y_predict))\n",
        "rms       #RMSE file train"
      ],
      "execution_count": null,
      "outputs": [
        {
          "output_type": "execute_result",
          "data": {
            "text/plain": [
              "1.2719921665860554"
            ]
          },
          "metadata": {
            "tags": []
          },
          "execution_count": 21
        }
      ]
    },
    {
      "cell_type": "code",
      "metadata": {
        "id": "brkl_yNX5NvT",
        "colab_type": "code",
        "colab": {
          "base_uri": "https://localhost:8080/",
          "height": 34
        },
        "outputId": "285da49e-1dbb-4b65-9e29-fda18aa98610"
      },
      "source": [
        "from sklearn.metrics import accuracy_score\n",
        "from sklearn import metrics\n",
        "\n",
        "precision = metrics.accuracy_score(y_predict0, y_test)\n",
        "precision"
      ],
      "execution_count": null,
      "outputs": [
        {
          "output_type": "execute_result",
          "data": {
            "text/plain": [
              "0.41626794258373206"
            ]
          },
          "metadata": {
            "tags": []
          },
          "execution_count": 23
        }
      ]
    }
  ]
}